{
 "cells": [
  {
   "cell_type": "markdown",
   "metadata": {},
   "source": [
    "# forLoop.py"
   ]
  },
  {
   "cell_type": "code",
   "execution_count": 1,
   "metadata": {},
   "outputs": [
    {
     "name": "stdout",
     "output_type": "stream",
     "text": [
      "  3           0 LOAD_CONST               1 (0)\n",
      "              2 STORE_FAST               0 (x)\n",
      "\n",
      "  4           4 SETUP_LOOP              24 (to 30)\n",
      "              6 LOAD_GLOBAL              0 (range)\n",
      "              8 LOAD_CONST               2 (5)\n",
      "             10 CALL_FUNCTION            1\n",
      "             12 GET_ITER\n",
      "        >>   14 FOR_ITER                12 (to 28)\n",
      "             16 STORE_FAST               0 (x)\n",
      "\n",
      "  5          18 LOAD_FAST                0 (x)\n",
      "             20 LOAD_CONST               3 (1)\n",
      "             22 INPLACE_ADD\n",
      "             24 STORE_FAST               0 (x)\n",
      "             26 JUMP_ABSOLUTE           14\n",
      "        >>   28 POP_BLOCK\n",
      "\n",
      "  6     >>   30 LOAD_FAST                0 (x)\n",
      "             32 RETURN_VALUE\n"
     ]
    }
   ],
   "source": [
    "import dis\n",
    "def forLoop():\n",
    "    x = 0\n",
    "    for x in range(5):\n",
    "        x += 1\n",
    "    return x\n",
    "dis.dis(forLoop)"
   ]
  },
  {
   "cell_type": "markdown",
   "metadata": {},
   "source": [
    "# whileLoop.py"
   ]
  },
  {
   "cell_type": "code",
   "execution_count": 2,
   "metadata": {},
   "outputs": [
    {
     "name": "stdout",
     "output_type": "stream",
     "text": [
      "  3           0 LOAD_CONST               1 (0)\n",
      "              2 STORE_FAST               0 (x)\n",
      "\n",
      "  4           4 SETUP_LOOP              20 (to 26)\n",
      "        >>    6 LOAD_FAST                0 (x)\n",
      "              8 LOAD_CONST               2 (5)\n",
      "             10 COMPARE_OP               0 (<)\n",
      "             12 POP_JUMP_IF_FALSE       24\n",
      "\n",
      "  5          14 LOAD_FAST                0 (x)\n",
      "             16 LOAD_CONST               3 (1)\n",
      "             18 INPLACE_ADD\n",
      "             20 STORE_FAST               0 (x)\n",
      "             22 JUMP_ABSOLUTE            6\n",
      "        >>   24 POP_BLOCK\n",
      "\n",
      "  6     >>   26 LOAD_CONST               0 (None)\n",
      "             28 RETURN_VALUE\n"
     ]
    }
   ],
   "source": [
    "import dis\n",
    "def whileLoop():\n",
    "    x = 0\n",
    "    while x < 5:\n",
    "        x += 1\n",
    "    return\n",
    "dis.dis(whileLoop)"
   ]
  },
  {
   "cell_type": "code",
   "execution_count": 3,
   "metadata": {},
   "outputs": [],
   "source": []
  },
  {
   "cell_type": "code",
   "execution_count": null,
   "metadata": {},
   "outputs": [],
   "source": [
    "import dis\n",
    "def elif_cond():\n",
    "    x = 0\n",
    "    if x > 0:\n",
    "        x = 1\n",
    "    elif x < 0:\n",
    "        x = 1\n",
    "\telse:\n",
    "\t\tx = 0\n",
    "dis.dis(elif_cond)\n",
    "\n"
   ]
  }
 ],
 "metadata": {
  "kernelspec": {
   "display_name": "Python 3",
   "language": "python",
   "name": "python3"
  },
  "language_info": {
   "codemirror_mode": {
    "name": "ipython",
    "version": 3
   },
   "file_extension": ".py",
   "mimetype": "text/x-python",
   "name": "python",
   "nbconvert_exporter": "python",
   "pygments_lexer": "ipython3",
   "version": "3.7.0"
  }
 },
 "nbformat": 4,
 "nbformat_minor": 2
}
